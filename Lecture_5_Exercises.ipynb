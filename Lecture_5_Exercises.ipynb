{
  "nbformat": 4,
  "nbformat_minor": 0,
  "metadata": {
    "colab": {
      "provenance": []
    },
    "kernelspec": {
      "name": "python3",
      "display_name": "Python 3"
    },
    "language_info": {
      "name": "python"
    }
  },
  "cells": [
    {
      "cell_type": "markdown",
      "source": [
        "# Exercise Lecture 5\n",
        "\n",
        "The block of code below downloads data from the yfinance library. Instead of using `your_stock` use the acronym of the stock that has been assigned to you.\n",
        "\n",
        "Running the code you will store the log-returns of your stock for the period 2022-2024. Do not change this overall setup.\n",
        "\n",
        "You may notice the code is slightly different from the other notebooks. This is to avoid warnings on how dates are handled."
      ],
      "metadata": {
        "id": "WKDzhuF2vAkU"
      }
    },
    {
      "cell_type": "code",
      "execution_count": null,
      "metadata": {
        "id": "eRK3hOSi2lSW",
        "colab": {
          "base_uri": "https://localhost:8080/"
        },
        "outputId": "e0f1f9eb-0c21-482a-e5bc-92637b706e28"
      },
      "outputs": [
        {
          "output_type": "stream",
          "name": "stderr",
          "text": [
            "\r[*********************100%***********************]  1 of 1 completed\n"
          ]
        }
      ],
      "source": [
        "import yfinance as yf\n",
        "import numpy as np\n",
        "import matplotlib.pyplot as plt\n",
        "from arch import arch_model\n",
        "import statsmodels.api as sm\n",
        "from statsmodels.nonparametric.smoothers_lowess import lowess\n",
        "\n",
        "# Step 1: Fetch Apple stock data\n",
        "data = yf.download('your_stock', start='2022-01-01', end='2024-12-31')\n",
        "\n",
        "# Step 2: Calculate log returns\n",
        "close = data['Close']\n",
        "log_returns = np.log(close / close.shift(1)).dropna() * 100"
      ]
    },
    {
      "cell_type": "markdown",
      "source": [
        "# Exercise 1\n",
        "\n",
        "Plot the time series of the absolute log-returns together with the LOESS estimate. Is there evidence of volatility clustering?\n"
      ],
      "metadata": {
        "id": "WP7aifLDvHE5"
      }
    },
    {
      "cell_type": "code",
      "source": [
        "## Write your code here"
      ],
      "metadata": {
        "id": "y4AsjR2-vt1m"
      },
      "execution_count": null,
      "outputs": []
    },
    {
      "cell_type": "markdown",
      "source": [
        "# Exercise 2\n",
        "\n",
        "Fit your favourite AR model with a T-distribution for the errors. What are the estimated degrees of freedom? Create a qq-plot comparing the residuals to the estimated T-distribution and comment on its appearance."
      ],
      "metadata": {
        "id": "e2zgNVXTvMDQ"
      }
    },
    {
      "cell_type": "code",
      "source": [
        "## Write your code here"
      ],
      "metadata": {
        "id": "tep0R79KxUvY"
      },
      "execution_count": null,
      "outputs": []
    },
    {
      "cell_type": "markdown",
      "source": [
        "# Exercise 3\n",
        "\n",
        "Choose and AR + ARCH model (either fix it yourself or look for the best one according to some criterion). Fit it to your time series and interpret the summary output."
      ],
      "metadata": {
        "id": "QgtIzQ0jvRYN"
      }
    },
    {
      "cell_type": "code",
      "source": [
        "## Write your code here"
      ],
      "metadata": {
        "id": "nyWvtm_eyRkC"
      },
      "execution_count": null,
      "outputs": []
    },
    {
      "cell_type": "markdown",
      "source": [
        "# Exercise 4\n",
        "\n",
        "For the previous model, plot the time series of the standardized residuals and the conditional volatility estimate. Comment on their appearance.\n"
      ],
      "metadata": {
        "id": "swSiYNhRw-ub"
      }
    },
    {
      "cell_type": "code",
      "source": [
        "## Write your code here"
      ],
      "metadata": {
        "id": "t_Re4cXpw773"
      },
      "execution_count": null,
      "outputs": []
    }
  ]
}