{
  "nbformat": 4,
  "nbformat_minor": 0,
  "metadata": {
    "colab": {
      "provenance": []
    },
    "kernelspec": {
      "name": "python3",
      "display_name": "Python 3"
    },
    "language_info": {
      "name": "python"
    }
  },
  "cells": [
    {
      "cell_type": "markdown",
      "source": [
        "# Exercise Lecture 7\n",
        "\n",
        "The block of code below downloads data from the yfinance library. Instead of using `your_stock` use the acronym of the stock that has been assigned to you.\n",
        "\n",
        "Running the code you will store the log-returns of your stock for the period 2022-2024. Do not change this overall setup.\n",
        "\n",
        "You may notice the code is slightly different from the other notebooks. This is to avoid warnings on how dates are handled."
      ],
      "metadata": {
        "id": "WKDzhuF2vAkU"
      }
    },
    {
      "cell_type": "code",
      "execution_count": null,
      "metadata": {
        "id": "eRK3hOSi2lSW"
      },
      "outputs": [],
      "source": [
        "! pip install arch\n",
        "\n",
        "import yfinance as yf\n",
        "import numpy as np\n",
        "import matplotlib.pyplot as plt\n",
        "from arch import arch_model\n",
        "import statsmodels.api as sm\n",
        "from statsmodels.nonparametric.smoothers_lowess import lowess\n",
        "\n",
        "# Step 1: Fetch Apple stock data\n",
        "data = yf.download('your_stock', start='2022-01-01', end='2024-12-31')\n",
        "\n",
        "# Step 2: Calculate log returns\n",
        "close = data['Close']\n",
        "log_returns = np.log(close / close.shift(1)).dropna() * 100\n",
        "\n",
        "log_returns\n"
      ]
    },
    {
      "cell_type": "markdown",
      "source": [
        "# Exercise 1\n",
        "\n",
        "Use the functions provided to compute various VaRs at different levels using the historical, Normal and T model. Visualize the VaRs. Also select one level and interpret the VaR estimate from the T model"
      ],
      "metadata": {
        "id": "WP7aifLDvHE5"
      }
    },
    {
      "cell_type": "code",
      "source": [
        "## Write your code here\n"
      ],
      "metadata": {
        "id": "y4AsjR2-vt1m"
      },
      "execution_count": null,
      "outputs": []
    },
    {
      "cell_type": "markdown",
      "source": [
        "# Exercise 2\n",
        "\n",
        "Repeat exercise 1 but in this case compute the ES."
      ],
      "metadata": {
        "id": "e2zgNVXTvMDQ"
      }
    },
    {
      "cell_type": "code",
      "source": [
        "## Write your code here\n"
      ],
      "metadata": {
        "id": "tep0R79KxUvY"
      },
      "execution_count": null,
      "outputs": []
    },
    {
      "cell_type": "markdown",
      "source": [
        "# Exercise 3\n",
        "\n",
        "Fit a conditional heteroskedasticity model of your choice. You can use your favorite one from the previous class. Use the model output to compute the dynamic VaR_99 estimate of your stock."
      ],
      "metadata": {
        "id": "QgtIzQ0jvRYN"
      }
    },
    {
      "cell_type": "code",
      "source": [
        "## Write your code here\n"
      ],
      "metadata": {
        "id": "nyWvtm_eyRkC"
      },
      "execution_count": null,
      "outputs": []
    }
  ]
}