{
 "cells": [
  {
   "cell_type": "markdown",
   "metadata": {
    "id": "WKDzhuF2vAkU"
   },
   "source": [
    "# Exercise Lecture 3\n",
    "\n",
    "The block of code below downloads data from the yfinance library. Instead of using `your_stock` use the acronym of the stock that has been assigned to you.\n",
    "\n",
    "Running the code you will store the log-returns of your stock for the period 2022-2024. Do not change this overall setup."
   ]
  },
  {
   "cell_type": "code",
   "execution_count": 8,
   "metadata": {
    "id": "eRK3hOSi2lSW"
   },
   "outputs": [
    {
     "name": "stderr",
     "output_type": "stream",
     "text": [
      "[*********************100%***********************]  1 of 1 completed\n",
      "\n",
      "1 Failed download:\n",
      "['BIDU']: YFRateLimitError('Too Many Requests. Rate limited. Try after a while.')\n"
     ]
    }
   ],
   "source": [
    "import yfinance as yf\n",
    "import numpy as np\n",
    "import matplotlib.pyplot as plt\n",
    "\n",
    "# Fetch Apple stock data\n",
    "data = yf.download('BIDU', start='2022-01-01', end='2024-12-31')\n",
    "\n",
    "# Select the 'Close' prices for AAPL\n",
    "data_close = data[('Close', 'BIDU')]\n",
    "\n",
    "# Calculate Log Returns\n",
    "data_log_returns = np.log(data_close / data_close.shift(1))\n",
    "\n",
    "# Drop NaN values\n",
    "data_close = data_close.dropna()\n",
    "data_log_returns = data_log_returns.dropna()"
   ]
  },
  {
   "cell_type": "code",
   "execution_count": 7,
   "metadata": {},
   "outputs": [
    {
     "name": "stderr",
     "output_type": "stream",
     "text": [
      "C:\\Users\\tinyellow\\.conda\\envs\\Finance\\Lib\\site-packages\\scipy\\stats\\_continuous_distns.py:479: RuntimeWarning: Mean of empty slice.\n",
      "  loc = data.mean()\n",
      "C:\\Users\\tinyellow\\.conda\\envs\\Finance\\Lib\\site-packages\\numpy\\_core\\_methods.py:145: RuntimeWarning: invalid value encountered in scalar divide\n",
      "  ret = ret.dtype.type(ret / rcount)\n",
      "C:\\Users\\tinyellow\\.conda\\envs\\Finance\\Lib\\site-packages\\scipy\\stats\\_continuous_distns.py:484: RuntimeWarning: Mean of empty slice.\n",
      "  scale = np.sqrt(((data - loc)**2).mean())\n",
      "C:\\Users\\tinyellow\\.conda\\envs\\Finance\\Lib\\site-packages\\numpy\\lib\\_histograms_impl.py:901: RuntimeWarning: invalid value encountered in divide\n",
      "  return n/db/n.sum(), bin_edges\n"
     ]
    },
    {
     "data": {
      "image/png": "[encoded data removed]",
      "text/plain": [
       "<Figure size 1200x500 with 2 Axes>"
      ]
     },
     "metadata": {},
     "output_type": "display_data"
    }
   ],
   "source": [
    "from scipy.stats import norm\n",
    "\n",
    "# Plot\n",
    "fig, axs = plt.subplots(1, 2, figsize=(12, 5))\n",
    "\n",
    "# Time Series Plot\n",
    "axs[0].plot(data_log_returns.index, data_log_returns, color='blue')\n",
    "axs[0].set_title('BIDU Log-Returns')\n",
    "axs[0].set_xlabel('Date')\n",
    "axs[0].set_ylabel('Log Returns')\n",
    "axs[0].grid()\n",
    "\n",
    "# Histogram with Normal Fit\n",
    "mean, std = norm.fit(data_log_returns)\n",
    "x = np.linspace(data_log_returns.min(), data_log_returns.max(), 100)\n",
    "pdf = norm.pdf(x, mean, std)\n",
    "\n",
    "axs[1].hist(data_log_returns, bins=30, density=True, alpha=0.6, color='gray')\n",
    "axs[1].plot(x, pdf, 'r', label='Normal Fit')\n",
    "axs[1].set_title('Histogram of Log-Returns')\n",
    "axs[1].set_xlabel('Log Returns')\n",
    "axs[1].set_ylabel('Density')\n",
    "axs[1].legend()\n",
    "\n",
    "plt.tight_layout()\n",
    "plt.savefig('bidu_log_returns_and_histogram.png')  # Save figure\n",
    "plt.show()"
   ]
  },
  {
   "cell_type": "markdown",
   "metadata": {
    "id": "WP7aifLDvHE5"
   },
   "source": [
    "# Exercise 1\n",
    "\n",
    "Compute the mean, variance, skewness and kurtosis of your data. Comment on their meaning.\n",
    "\n"
   ]
  },
  {
   "cell_type": "code",
   "execution_count": 3,
   "metadata": {
    "id": "y4AsjR2-vt1m"
   },
   "outputs": [
    {
     "name": "stdout",
     "output_type": "stream",
     "text": [
      "Mean: nan\n",
      "Variance: nan\n",
      "Skewness: nan\n",
      "Kurtosis (Excess): nan\n",
      "Kurtosis (Including Normal Baseline): nan\n"
     ]
    },
    {
     "name": "stderr",
     "output_type": "stream",
     "text": [
      "C:\\Users\\tinyellow\\AppData\\Local\\Temp\\ipykernel_16964\\501858741.py:13: SmallSampleWarning: One or more sample arguments is too small; all returned values will be NaN. See documentation for sample size requirements.\n",
      "  skewness = skew(data_log_returns)\n",
      "C:\\Users\\tinyellow\\AppData\\Local\\Temp\\ipykernel_16964\\501858741.py:16: SmallSampleWarning: One or more sample arguments is too small; all returned values will be NaN. See documentation for sample size requirements.\n",
      "  kurt = kurtosis(data_log_returns, fisher=True)  # Fisher=True for excess kurtosis\n"
     ]
    }
   ],
   "source": [
    "from scipy.stats import skew, kurtosis\n",
    "import numpy as np\n",
    "\n",
    "# Compute mean\n",
    "mean_value = np.mean(data_log_returns)\n",
    "\n",
    "# Compute variance\n",
    "variance_value = np.var(data_log_returns)\n",
    "\n",
    "print(f\"Mean: {mean_value}\")\n",
    "print(f\"Variance: {variance_value}\")\n",
    "\n",
    "skewness = skew(data_log_returns)\n",
    "\n",
    "# Kurtosis (excess kurtosis, by default subtracts 3)\n",
    "kurt = kurtosis(data_log_returns, fisher=True)  # Fisher=True for excess kurtosis\n",
    "\n",
    "# Adjust kurtosis to include baseline of 3\n",
    "kurt_with_baseline = kurt + 3\n",
    "\n",
    "# Print results\n",
    "print(f\"Skewness: {skewness}\")\n",
    "print(f\"Kurtosis (Excess): {kurt}\")\n",
    "print(f\"Kurtosis (Including Normal Baseline): {kurt_with_baseline}\")"
   ]
  },
  {
   "cell_type": "markdown",
   "metadata": {},
   "source": [
    "The mean of the log return is -0.000763, indicating an average daily logarithmic return of -0.076% during the observed period, reflecting a slight long-term downtrend.\n",
    "\n",
    "The variance of log return is 0.0011, showing the stability and concentration of BIDU log returns, reflecting low volatility.\n",
    "\n",
    "The skewness is 1.4264, suggesting a strong positive skewness. The log return of BIDU has a longer right tail, indicating that large positive returns occur more often.\n",
    "\n",
    "The kurtosis is exceptionally high, with an excess kurtosis of 13.599. This indicates the log return of BIDU has a very sharp peak and heavy tails compared to a normal distribution."
   ]
  },
  {
   "cell_type": "markdown",
   "metadata": {
    "id": "e2zgNVXTvMDQ"
   },
   "source": [
    "# Exercise 2\n",
    "\n",
    "Fit the Gaussian distribution to your data. Given the estimated parameters compute the mean, variance, skewness and kurtosis of the associated Gaussian distribution. Comment on the results."
   ]
  },
  {
   "cell_type": "code",
   "execution_count": 4,
   "metadata": {
    "id": "tep0R79KxUvY"
   },
   "outputs": [
    {
     "name": "stdout",
     "output_type": "stream",
     "text": [
      "Estimated Parameters:\n",
      "Mean (mu): nan\n",
      "Standard Deviation (sigma): nan\n",
      "\n",
      "Moments:\n",
      "Mean: nan\n",
      "Variance: nan\n",
      "Skewness: nan\n",
      "Kurtosis: nan\n"
     ]
    }
   ],
   "source": [
    "from scipy.stats import norm\n",
    "\n",
    "params = norm.fit(data_log_returns)  # Estimates mean (mu) and standard deviation (sigma)\n",
    "\n",
    "# Extract parameters\n",
    "mu, sigma = params[0], params[1]\n",
    "print(f\"Estimated Parameters:\\nMean (mu): {mu}\\nStandard Deviation (sigma): {sigma}\")\n",
    "\n",
    "# Compute moments\n",
    "mean = norm.mean(loc=mu, scale=sigma)\n",
    "variance = norm.var(loc=mu, scale=sigma)\n",
    "skewness = norm.stats(loc=mu, scale=sigma, moments='s')  # Always 0 for Gaussian\n",
    "kurtosis = norm.stats(loc=mu, scale=sigma, moments='k') + 3  # Always 3 for Gaussian\n",
    "\n",
    "# Print moments\n",
    "print(\"\\nMoments:\")\n",
    "print(f\"Mean: {mean}\")\n",
    "print(f\"Variance: {variance}\")\n",
    "print(f\"Skewness: {skewness}\")\n",
    "print(f\"Kurtosis: {kurtosis}\")"
   ]
  },
  {
   "cell_type": "markdown",
   "metadata": {},
   "source": [
    "The mean is -0.000763, showing the BIDU log return is centered near zero.\n",
    "\n",
    "A variance of 0.0011 indicates the data has low volatility.\n",
    "\n",
    "A skewness of 0 confirms that the fitted Gaussian distribution is symmetric. However, the Gaussian model doesn't fully capture the asymmetry (1.426) of the actual return.\n",
    "\n",
    "The real BIDU log returns show an excess kurtosis of 13.599, indicating the presence of extreme returns (outliers). A kurtosis of 3 might underestimate the actual kurtosis of return."
   ]
  },
  {
   "cell_type": "markdown",
   "metadata": {
    "id": "QgtIzQ0jvRYN"
   },
   "source": [
    "# Exercise 3\n",
    "\n",
    "Fit the T-distribution to your data. Given the estimated parameters compute the mean, variance, skewness and kurtosis of the associated T-distribution. Comment on the results."
   ]
  },
  {
   "cell_type": "code",
   "execution_count": 5,
   "metadata": {
    "id": "nyWvtm_eyRkC"
   },
   "outputs": [
    {
     "name": "stderr",
     "output_type": "stream",
     "text": [
      "C:\\Users\\tinyellow\\.conda\\envs\\Finance\\Lib\\site-packages\\scipy\\stats\\_distn_infrastructure.py:2853: RuntimeWarning: Mean of empty slice.\n",
      "  muhat = tmp.mean()\n",
      "C:\\Users\\tinyellow\\.conda\\envs\\Finance\\Lib\\site-packages\\scipy\\stats\\_distn_infrastructure.py:2854: RuntimeWarning: Degrees of freedom <= 0 for slice\n",
      "  mu2hat = tmp.var()\n",
      "C:\\Users\\tinyellow\\.conda\\envs\\Finance\\Lib\\site-packages\\numpy\\_core\\_methods.py:181: RuntimeWarning: invalid value encountered in divide\n",
      "  arrmean = um.true_divide(arrmean, div, out=arrmean,\n",
      "C:\\Users\\tinyellow\\.conda\\envs\\Finance\\Lib\\site-packages\\numpy\\_core\\_methods.py:215: RuntimeWarning: invalid value encountered in scalar divide\n",
      "  ret = ret.dtype.type(ret / rcount)\n"
     ]
    },
    {
     "ename": "ValueError",
     "evalue": "zero-size array to reduction operation minimum which has no identity",
     "output_type": "error",
     "traceback": [
      "\u001b[1;31m---------------------------------------------------------------------------\u001b[0m",
      "\u001b[1;31mValueError\u001b[0m                                Traceback (most recent call last)",
      "Cell \u001b[1;32mIn[5], line 3\u001b[0m\n\u001b[0;32m      1\u001b[0m \u001b[38;5;28;01mfrom\u001b[39;00m\u001b[38;5;250m \u001b[39m\u001b[38;5;21;01mscipy\u001b[39;00m\u001b[38;5;21;01m.\u001b[39;00m\u001b[38;5;21;01mstats\u001b[39;00m\u001b[38;5;250m \u001b[39m\u001b[38;5;28;01mimport\u001b[39;00m t\n\u001b[1;32m----> 3\u001b[0m params \u001b[38;5;241m=\u001b[39m \u001b[43mt\u001b[49m\u001b[38;5;241;43m.\u001b[39;49m\u001b[43mfit\u001b[49m\u001b[43m(\u001b[49m\u001b[43mdata_log_returns\u001b[49m\u001b[43m)\u001b[49m  \u001b[38;5;66;03m# Fits location (mu), scale (sigma), and degrees of freedom (nu)\u001b[39;00m\n\u001b[0;32m      5\u001b[0m \u001b[38;5;66;03m# Extract parameters\u001b[39;00m\n\u001b[0;32m      6\u001b[0m nu, mu, sigma \u001b[38;5;241m=\u001b[39m params[\u001b[38;5;241m0\u001b[39m], params[\u001b[38;5;241m1\u001b[39m], params[\u001b[38;5;241m2\u001b[39m]\n",
      "File \u001b[1;32m~\\.conda\\envs\\Finance\\Lib\\site-packages\\scipy\\stats\\_distn_infrastructure.py:2723\u001b[0m, in \u001b[0;36mrv_continuous.fit\u001b[1;34m(self, data, *args, **kwds)\u001b[0m\n\u001b[0;32m   2719\u001b[0m start \u001b[38;5;241m=\u001b[39m [\u001b[38;5;28;01mNone\u001b[39;00m]\u001b[38;5;241m*\u001b[39m\u001b[38;5;241m2\u001b[39m\n\u001b[0;32m   2720\u001b[0m \u001b[38;5;28;01mif\u001b[39;00m (Narg \u001b[38;5;241m<\u001b[39m \u001b[38;5;28mself\u001b[39m\u001b[38;5;241m.\u001b[39mnumargs) \u001b[38;5;129;01mor\u001b[39;00m \u001b[38;5;129;01mnot\u001b[39;00m (\u001b[38;5;124m'\u001b[39m\u001b[38;5;124mloc\u001b[39m\u001b[38;5;124m'\u001b[39m \u001b[38;5;129;01min\u001b[39;00m kwds \u001b[38;5;129;01mand\u001b[39;00m\n\u001b[0;32m   2721\u001b[0m                                  \u001b[38;5;124m'\u001b[39m\u001b[38;5;124mscale\u001b[39m\u001b[38;5;124m'\u001b[39m \u001b[38;5;129;01min\u001b[39;00m kwds):\n\u001b[0;32m   2722\u001b[0m     \u001b[38;5;66;03m# get distribution specific starting locations\u001b[39;00m\n\u001b[1;32m-> 2723\u001b[0m     start \u001b[38;5;241m=\u001b[39m \u001b[38;5;28;43mself\u001b[39;49m\u001b[38;5;241;43m.\u001b[39;49m\u001b[43m_fitstart\u001b[49m\u001b[43m(\u001b[49m\u001b[43mdata\u001b[49m\u001b[43m)\u001b[49m\n\u001b[0;32m   2724\u001b[0m     args \u001b[38;5;241m+\u001b[39m\u001b[38;5;241m=\u001b[39m start[Narg:\u001b[38;5;241m-\u001b[39m\u001b[38;5;241m2\u001b[39m]\n\u001b[0;32m   2725\u001b[0m loc \u001b[38;5;241m=\u001b[39m kwds\u001b[38;5;241m.\u001b[39mpop(\u001b[38;5;124m'\u001b[39m\u001b[38;5;124mloc\u001b[39m\u001b[38;5;124m'\u001b[39m, start[\u001b[38;5;241m-\u001b[39m\u001b[38;5;241m2\u001b[39m])\n",
      "File \u001b[1;32m~\\.conda\\envs\\Finance\\Lib\\site-packages\\scipy\\stats\\_distn_infrastructure.py:2429\u001b[0m, in \u001b[0;36mrv_continuous._fitstart\u001b[1;34m(self, data, args)\u001b[0m\n\u001b[0;32m   2427\u001b[0m \u001b[38;5;28;01mif\u001b[39;00m args \u001b[38;5;129;01mis\u001b[39;00m \u001b[38;5;28;01mNone\u001b[39;00m:\n\u001b[0;32m   2428\u001b[0m     args \u001b[38;5;241m=\u001b[39m (\u001b[38;5;241m1.0\u001b[39m,)\u001b[38;5;241m*\u001b[39m\u001b[38;5;28mself\u001b[39m\u001b[38;5;241m.\u001b[39mnumargs\n\u001b[1;32m-> 2429\u001b[0m loc, scale \u001b[38;5;241m=\u001b[39m \u001b[38;5;28;43mself\u001b[39;49m\u001b[38;5;241;43m.\u001b[39;49m\u001b[43m_fit_loc_scale_support\u001b[49m\u001b[43m(\u001b[49m\u001b[43mdata\u001b[49m\u001b[43m,\u001b[49m\u001b[43m \u001b[49m\u001b[38;5;241;43m*\u001b[39;49m\u001b[43margs\u001b[49m\u001b[43m)\u001b[49m\n\u001b[0;32m   2430\u001b[0m \u001b[38;5;28;01mreturn\u001b[39;00m args \u001b[38;5;241m+\u001b[39m (loc, scale)\n",
      "File \u001b[1;32m~\\.conda\\envs\\Finance\\Lib\\site-packages\\scipy\\stats\\_distn_infrastructure.py:2806\u001b[0m, in \u001b[0;36mrv_continuous._fit_loc_scale_support\u001b[1;34m(self, data, *args)\u001b[0m\n\u001b[0;32m   2803\u001b[0m b_hat \u001b[38;5;241m=\u001b[39m loc_hat \u001b[38;5;241m+\u001b[39m b \u001b[38;5;241m*\u001b[39m scale_hat\n\u001b[0;32m   2805\u001b[0m \u001b[38;5;66;03m# Use the moment-based estimates if they are compatible with the data.\u001b[39;00m\n\u001b[1;32m-> 2806\u001b[0m data_a \u001b[38;5;241m=\u001b[39m \u001b[43mnp\u001b[49m\u001b[38;5;241;43m.\u001b[39;49m\u001b[43mmin\u001b[49m\u001b[43m(\u001b[49m\u001b[43mdata\u001b[49m\u001b[43m)\u001b[49m\n\u001b[0;32m   2807\u001b[0m data_b \u001b[38;5;241m=\u001b[39m np\u001b[38;5;241m.\u001b[39mmax(data)\n\u001b[0;32m   2808\u001b[0m \u001b[38;5;28;01mif\u001b[39;00m a_hat \u001b[38;5;241m<\u001b[39m data_a \u001b[38;5;129;01mand\u001b[39;00m data_b \u001b[38;5;241m<\u001b[39m b_hat:\n",
      "File \u001b[1;32m~\\.conda\\envs\\Finance\\Lib\\site-packages\\numpy\\_core\\fromnumeric.py:3302\u001b[0m, in \u001b[0;36mmin\u001b[1;34m(a, axis, out, keepdims, initial, where)\u001b[0m\n\u001b[0;32m   3190\u001b[0m \u001b[38;5;129m@array_function_dispatch\u001b[39m(_min_dispatcher)\n\u001b[0;32m   3191\u001b[0m \u001b[38;5;28;01mdef\u001b[39;00m\u001b[38;5;250m \u001b[39m\u001b[38;5;21mmin\u001b[39m(a, axis\u001b[38;5;241m=\u001b[39m\u001b[38;5;28;01mNone\u001b[39;00m, out\u001b[38;5;241m=\u001b[39m\u001b[38;5;28;01mNone\u001b[39;00m, keepdims\u001b[38;5;241m=\u001b[39mnp\u001b[38;5;241m.\u001b[39m_NoValue, initial\u001b[38;5;241m=\u001b[39mnp\u001b[38;5;241m.\u001b[39m_NoValue,\n\u001b[0;32m   3192\u001b[0m         where\u001b[38;5;241m=\u001b[39mnp\u001b[38;5;241m.\u001b[39m_NoValue):\n\u001b[0;32m   3193\u001b[0m \u001b[38;5;250m    \u001b[39m\u001b[38;5;124;03m\"\"\"\u001b[39;00m\n\u001b[0;32m   3194\u001b[0m \u001b[38;5;124;03m    Return the minimum of an array or minimum along an axis.\u001b[39;00m\n\u001b[0;32m   3195\u001b[0m \n\u001b[1;32m   (...)\u001b[0m\n\u001b[0;32m   3300\u001b[0m \u001b[38;5;124;03m    6\u001b[39;00m\n\u001b[0;32m   3301\u001b[0m \u001b[38;5;124;03m    \"\"\"\u001b[39;00m\n\u001b[1;32m-> 3302\u001b[0m     \u001b[38;5;28;01mreturn\u001b[39;00m \u001b[43m_wrapreduction\u001b[49m\u001b[43m(\u001b[49m\u001b[43ma\u001b[49m\u001b[43m,\u001b[49m\u001b[43m \u001b[49m\u001b[43mnp\u001b[49m\u001b[38;5;241;43m.\u001b[39;49m\u001b[43mminimum\u001b[49m\u001b[43m,\u001b[49m\u001b[43m \u001b[49m\u001b[38;5;124;43m'\u001b[39;49m\u001b[38;5;124;43mmin\u001b[39;49m\u001b[38;5;124;43m'\u001b[39;49m\u001b[43m,\u001b[49m\u001b[43m \u001b[49m\u001b[43maxis\u001b[49m\u001b[43m,\u001b[49m\u001b[43m \u001b[49m\u001b[38;5;28;43;01mNone\u001b[39;49;00m\u001b[43m,\u001b[49m\u001b[43m \u001b[49m\u001b[43mout\u001b[49m\u001b[43m,\u001b[49m\n\u001b[0;32m   3303\u001b[0m \u001b[43m                          \u001b[49m\u001b[43mkeepdims\u001b[49m\u001b[38;5;241;43m=\u001b[39;49m\u001b[43mkeepdims\u001b[49m\u001b[43m,\u001b[49m\u001b[43m \u001b[49m\u001b[43minitial\u001b[49m\u001b[38;5;241;43m=\u001b[39;49m\u001b[43minitial\u001b[49m\u001b[43m,\u001b[49m\u001b[43m \u001b[49m\u001b[43mwhere\u001b[49m\u001b[38;5;241;43m=\u001b[39;49m\u001b[43mwhere\u001b[49m\u001b[43m)\u001b[49m\n",
      "File \u001b[1;32m~\\.conda\\envs\\Finance\\Lib\\site-packages\\numpy\\_core\\fromnumeric.py:86\u001b[0m, in \u001b[0;36m_wrapreduction\u001b[1;34m(obj, ufunc, method, axis, dtype, out, **kwargs)\u001b[0m\n\u001b[0;32m     83\u001b[0m         \u001b[38;5;28;01melse\u001b[39;00m:\n\u001b[0;32m     84\u001b[0m             \u001b[38;5;28;01mreturn\u001b[39;00m reduction(axis\u001b[38;5;241m=\u001b[39maxis, out\u001b[38;5;241m=\u001b[39mout, \u001b[38;5;241m*\u001b[39m\u001b[38;5;241m*\u001b[39mpasskwargs)\n\u001b[1;32m---> 86\u001b[0m \u001b[38;5;28;01mreturn\u001b[39;00m \u001b[43mufunc\u001b[49m\u001b[38;5;241;43m.\u001b[39;49m\u001b[43mreduce\u001b[49m\u001b[43m(\u001b[49m\u001b[43mobj\u001b[49m\u001b[43m,\u001b[49m\u001b[43m \u001b[49m\u001b[43maxis\u001b[49m\u001b[43m,\u001b[49m\u001b[43m \u001b[49m\u001b[43mdtype\u001b[49m\u001b[43m,\u001b[49m\u001b[43m \u001b[49m\u001b[43mout\u001b[49m\u001b[43m,\u001b[49m\u001b[43m \u001b[49m\u001b[38;5;241;43m*\u001b[39;49m\u001b[38;5;241;43m*\u001b[39;49m\u001b[43mpasskwargs\u001b[49m\u001b[43m)\u001b[49m\n",
      "\u001b[1;31mValueError\u001b[0m: zero-size array to reduction operation minimum which has no identity"
     ]
    }
   ],
   "source": [
    "from scipy.stats import t\n",
    "\n",
    "params = t.fit(data_log_returns)  # Fits location (mu), scale (sigma), and degrees of freedom (nu)\n",
    "\n",
    "# Extract parameters\n",
    "nu, mu, sigma = params[0], params[1], params[2]\n",
    "print(f\"Estimated Parameters:\\nDegrees of Freedom (nu): {nu}\\nLocation (mu): {mu}\\nScale (sigma): {sigma}\")\n",
    "\n",
    "# Compute moments\n",
    "mean = t.mean(nu, loc=mu, scale=sigma) if nu > 1 else \"Undefined (nu <= 1)\"\n",
    "variance = t.var(nu, loc=mu, scale=sigma) if nu > 2 else \"Infinite (1 < nu <= 2)\" if nu > 1 else \"Undefined (nu <= 1)\"\n",
    "skewness = t.stats(nu, loc=mu, scale=sigma, moments='s') if nu > 3 else \"Undefined (nu <= 3)\"\n",
    "kurtosis = t.stats(nu, loc=mu, scale=sigma, moments='k') + 3 if nu > 4 else \"Infinite (2 < nu <= 4)\" if nu > 2 else \"Undefined (nu <= 2)\"\n",
    "\n",
    "# Print moments\n",
    "print(\"\\nMoments:\")\n",
    "print(f\"Mean: {mean}\")\n",
    "print(f\"Variance: {variance}\")\n",
    "print(f\"Skewness: {skewness}\")\n",
    "print(f\"Kurtosis: {kurtosis}\")"
   ]
  },
  {
   "cell_type": "markdown",
   "metadata": {},
   "source": [
    "The estimated degree of freedom is 4.16. This suggests a heavy-tailed distribution.\n",
    "\n",
    "The location parameter is very close to 0, indicating it is similar to a Gaussian distribution centered at zero.\n",
    "\n",
    "The estimated sigma is 0.0237, which is relatively small, implying that the log returns are mostly clustered around the mean.\n",
    "\n",
    "The mean of the fitted T-distribution is consistent with the location parameter mu. This indicates that the log returns of BIDU are mostly centered around zero with a slight negative tendency.\n",
    "\n",
    "The variance is 0.00108, showing low volatility.\n",
    "\n",
    "Skewness of 0.0 indicates that the distribution is symmetric.\n",
    "\n",
    "The kurtosis of approximately 40.18 is very high. This indicates that the distribution has extremely heavy tails compared to a normal distribution. However, it largely deviates from the actual kurtosis of data."
   ]
  },
  {
   "cell_type": "code",
   "execution_count": null,
   "metadata": {},
   "outputs": [],
   "source": [
    "# Generate T-distribution PDF for overlay\n",
    "x = np.linspace(data_log_returns.min(), data_log_returns.max(), 1000)\n",
    "pdf_t = t.pdf(x, nu, loc=mu, scale=sigma)\n",
    "\n",
    "# Plot histogram and T-distribution\n",
    "plt.figure(figsize=(10, 6))\n",
    "plt.hist(data_log_returns, bins=50, density=True, alpha=0.6, color='blue', label='Log-Returns Histogram')\n",
    "plt.plot(x, pdf_t, 'r-', label=f'T-Distribution (ν={nu:.2f}, μ={mu:.5f}, σ={sigma:.5f})')\n",
    "plt.title('Histogram of Log-Returns with Fitted T-Distribution')\n",
    "plt.xlabel('Log-Returns')\n",
    "plt.ylabel('Density')\n",
    "plt.legend()\n",
    "plt.grid()\n",
    "plt.tight_layout()\n",
    "\n",
    "# Save the plot\n",
    "plt.savefig('apple_t_fit.png')  # Save the figure to use in the slide\n",
    "plt.show()"
   ]
  },
  {
   "cell_type": "markdown",
   "metadata": {
    "id": "swSiYNhRw-ub"
   },
   "source": [
    "# Exercise 4\n",
    "\n",
    "Create a qq-plot of the data vs the fitted T-distribution. Comment on the output.\n"
   ]
  },
  {
   "cell_type": "code",
   "execution_count": null,
   "metadata": {
    "id": "t_Re4cXpw773"
   },
   "outputs": [],
   "source": [
    "import matplotlib.pyplot as plt\n",
    "import scipy.stats as stats\n",
    "\n",
    "# T-distribution parameters (from previous fit)\n",
    "nu, mu, sigma = 4.161380175734077, -0.0018999508711848427, 0.02370294344883442\n",
    "\n",
    "# Create QQ-Plot\n",
    "plt.figure(figsize=(8, 6))\n",
    "stats.probplot(data_log_returns, dist=\"t\", sparams=(nu,), plot=plt)\n",
    "\n",
    "# Title and labels\n",
    "plt.title(\"QQ-Plot of Data vs Fitted T-Distribution\")\n",
    "plt.xlabel(\"Theoretical Quantiles\")\n",
    "plt.ylabel(\"Sample Quantiles\")\n",
    "plt.grid()\n",
    "plt.show()"
   ]
  },
  {
   "cell_type": "markdown",
   "metadata": {},
   "source": [
    "From the QQ plot, we can observe extreme outliers impacting the Kurtosis of data.\n",
    "Besides, the distribution of BIDU log return does not strictly follow T-distribution. The actual data has less tail than T-distribution."
   ]
  }
 ],
 "metadata": {
  "colab": {
   "provenance": []
  },
  "kernelspec": {
   "display_name": "Python (Finance)",
   "language": "python",
   "name": "finance"
  },
  "language_info": {
   "codemirror_mode": {
    "name": "ipython",
    "version": 3
   },
   "file_extension": ".py",
   "mimetype": "text/x-python",
   "name": "python",
   "nbconvert_exporter": "python",
   "pygments_lexer": "ipython3",
   "version": "3.12.9"
  }
 },
 "nbformat": 4,
 "nbformat_minor": 4
}
